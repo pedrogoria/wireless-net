{
  "cells": [
    {
      "metadata": {
        "collapsed": true
      },
      "cell_type": "markdown",
      "source": "# BL40A2030 Wireless Communication Networks\n\n## Week 3 - Assignment\n\n### Author: [Write your name]"
    },
    {
      "metadata": {},
      "cell_type": "markdown",
      "source": "**1. (M/M/1/K queue) Go to the p. 149 (sectin 7.2) of [this book](http://irh.inf.unideb.hu/user/jsztrik/publications/books/GlobeEdit_Basic_Queueing_Theory_Sztrik_2016.pdf).**\n\n(a) Plot the block probability (probability of the queue is full when a new arrival happens) $P_K$ as a function of $K$ (size of the queue) for $\\lambda = 1$ (arrival rate) and $\\mu=2$ (service rate). Note that $P_K$ is the probability of having $K$ elements in the system. Use $K$ between 0 and 10.\n\n(b) Plot the expected waiting time in the queue system $\\bar{W}$ as a function of $K$ (size of the queue) for $\\lambda = 1$ (arrival rate) and $\\mu=2$ (service rate). Note that $P_K$ is the probability of having $K$ elements in the system. Use $K$ between 0 and 10.\n\n(c) Discuss the trade-off involved between waiting time and block probability.\n\n\n\n**2. ($x$ M/M/1 queues in tandem) Study the network of $x$ queues, a special case of the system presented in Fig. 4.16 in p. 109 from [3]. Consider that the arrival rate is $\\lambda$ and the service rate is $\\mu$ (the same for all servers) so that $\\lambda$ smaller that $\\mu$** \n\n- What is the probability that all $x$ queues are empty at the same time as a function of $\\lambda$, $\\mu$ and $\\rho = \\lambda/\\mu$? \n- Plot this probability as a function of $\\lambda$ for $\\mu = 3$. Plot in the same figure using the values of $x=1,2,3,4,5$.\n\n**3. (Optimize Slotted Aloha) In the tutorial, an optimization related to the pure Aloha was presented. Follow the same approach and optimize the Slotted Aloha. Plot the results together with the one presented in the tutorial.** \n\n\n**4. (Theory) Explain with your own words the basics of the following protocols. Whenever it is possible, compare their differences in terms of throughput, delay and implementation complexity. Use [this slides](https://www.cs.jhu.edu/~terzis/classes/cs349-fall05/lec4.pdf) to help.** \n\n- Pure Aloha\n- Slotted Aloha\n- CSMA non-persistant\n- CSMA 1-persistant\n- CSMA p-persistant\n\n"
    },
    {
      "metadata": {
        "trusted": true
      },
      "cell_type": "code",
      "source": "",
      "execution_count": null,
      "outputs": []
    }
  ],
  "metadata": {
    "kernelspec": {
      "name": "python36",
      "display_name": "Python 3.6",
      "language": "python"
    },
    "language_info": {
      "mimetype": "text/x-python",
      "nbconvert_exporter": "python",
      "name": "python",
      "pygments_lexer": "ipython3",
      "version": "3.6.6",
      "file_extension": ".py",
      "codemirror_mode": {
        "version": 3,
        "name": "ipython"
      }
    }
  },
  "nbformat": 4,
  "nbformat_minor": 2
}
